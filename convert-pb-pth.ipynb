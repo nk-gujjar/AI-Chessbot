{
 "cells": [
  {
   "cell_type": "code",
   "execution_count": 1,
   "id": "3d2c0163",
   "metadata": {},
   "outputs": [
    {
     "name": "stderr",
     "output_type": "stream",
     "text": [
      "/Users/niteshkumar/conda/envs/tf_env/lib/python3.9/site-packages/torch/utils/_pytree.py:185: FutureWarning: optree is installed but the version is too old to support PyTorch Dynamo in C++ pytree. C++ pytree support is disabled. Please consider upgrading optree using `python3 -m pip install --upgrade 'optree>=0.13.0'`.\n",
      "  warnings.warn(\n"
     ]
    },
    {
     "ename": "ModuleNotFoundError",
     "evalue": "No module named 'model'",
     "output_type": "error",
     "traceback": [
      "\u001b[0;31m---------------------------------------------------------------------------\u001b[0m",
      "\u001b[0;31mModuleNotFoundError\u001b[0m                       Traceback (most recent call last)",
      "Cell \u001b[0;32mIn[1], line 5\u001b[0m\n\u001b[1;32m      3\u001b[0m \u001b[38;5;28;01mimport\u001b[39;00m \u001b[38;5;21;01mtorch\u001b[39;00m\n\u001b[1;32m      4\u001b[0m \u001b[38;5;28;01mimport\u001b[39;00m \u001b[38;5;21;01mnumpy\u001b[39;00m \u001b[38;5;28;01mas\u001b[39;00m \u001b[38;5;21;01mnp\u001b[39;00m\n\u001b[0;32m----> 5\u001b[0m \u001b[38;5;28;01mfrom\u001b[39;00m \u001b[38;5;21;01mmodel\u001b[39;00m \u001b[38;5;28;01mimport\u001b[39;00m LcZeroNet  \u001b[38;5;66;03m# From previous answer\u001b[39;00m\n\u001b[1;32m      7\u001b[0m \u001b[38;5;28;01mdef\u001b[39;00m \u001b[38;5;21mload_lczero_weights\u001b[39m(weights_path):\n\u001b[1;32m      8\u001b[0m \u001b[38;5;250m    \u001b[39m\u001b[38;5;124;03m\"\"\"Load LCZero .pb.gz weights into PyTorch model\"\"\"\u001b[39;00m\n",
      "\u001b[0;31mModuleNotFoundError\u001b[0m: No module named 'model'"
     ]
    }
   ],
   "source": [
    "# File: convert_lczero_weights.py\n",
    "import gzip\n",
    "import torch\n",
    "import numpy as np\n",
    "from model import LcZeroNet  # From previous answer\n",
    "\n",
    "def load_lczero_weights(weights_path):\n",
    "    \"\"\"Load LCZero .pb.gz weights into PyTorch model\"\"\"\n",
    "    model = LcZeroNet(channels=128, blocks=20)\n",
    "    \n",
    "    # Uncompress and parse LCZero's protobuf format\n",
    "    with gzip.open(weights_path, 'rb') as f:\n",
    "        data = f.read()\n",
    "    \n",
    "    # LCZero weight structure: [version][weights...]\n",
    "    version = data[0:4]\n",
    "    weights = np.frombuffer(data[4:], dtype=np.float16)\n",
    "    \n",
    "    # Manually map weights to PyTorch layers\n",
    "    ptr = 0\n",
    "    state_dict = {}\n",
    "    \n",
    "    # Input convolution\n",
    "    state_dict['input_block.0.weight'] = torch.tensor(\n",
    "        weights[ptr:ptr+3*3*112*128].reshape(128, 112, 3, 3)\n",
    "    )\n",
    "    ptr += 3*3*112*128\n",
    "    \n",
    "    # Residual blocks\n",
    "    for i in range(20):\n",
    "        prefix = f'res_blocks.{i}.'\n",
    "        # Conv1\n",
    "        state_dict[prefix+'conv1.weight'] = torch.tensor(\n",
    "            weights[ptr:ptr+3*3*128*128].reshape(128, 128, 3, 3)\n",
    "        )\n",
    "        ptr += 3*3*128*128\n",
    "        # Conv2\n",
    "        state_dict[prefix+'conv2.weight'] = torch.tensor(\n",
    "            weights[ptr:ptr+3*3*128*128].reshape(128, 128, 3, 3)\n",
    "        )\n",
    "        ptr += 3*3*128*128\n",
    "    \n",
    "    # Policy head\n",
    "    state_dict['policy_head.0.weight'] = torch.tensor(\n",
    "        weights[ptr:ptr+3*3*128*32].reshape(32, 128, 3, 3)\n",
    "    )\n",
    "    ptr += 3*3*128*32\n",
    "    state_dict['policy_head.3.weight'] = torch.tensor(\n",
    "        weights[ptr:ptr+4672*2048].reshape(4672, 2048)\n",
    "    )\n",
    "    ptr += 4672*2048\n",
    "    \n",
    "    # Value head\n",
    "    state_dict['value_head.0.weight'] = torch.tensor(\n",
    "        weights[ptr:ptr+3*3*128*32].reshape(32, 128, 3, 3)\n",
    "    )\n",
    "    ptr += 3*3*128*32\n",
    "    state_dict['value_head.4.weight'] = torch.tensor(\n",
    "        weights[ptr:ptr+128*256].reshape(256, 128)\n",
    "    )\n",
    "    ptr += 128*256\n",
    "    state_dict['value_head.6.weight'] = torch.tensor(\n",
    "        weights[ptr:ptr+1*256].reshape(1, 256)\n",
    "    )\n",
    "    \n",
    "    model.load_state_dict(state_dict)\n",
    "    return model\n",
    "\n",
    "if __name__ == '__main__':\n",
    "    model = load_lczero_weights('BT3-768x15x24h-swa-2790000.pb')\n",
    "    torch.save(model.state_dict(), 'lczero_weights.pth')\n"
   ]
  },
  {
   "cell_type": "code",
   "execution_count": null,
   "id": "10ff1f9e",
   "metadata": {},
   "outputs": [],
   "source": []
  }
 ],
 "metadata": {
  "kernelspec": {
   "display_name": "tf_env",
   "language": "python",
   "name": "python3"
  },
  "language_info": {
   "codemirror_mode": {
    "name": "ipython",
    "version": 3
   },
   "file_extension": ".py",
   "mimetype": "text/x-python",
   "name": "python",
   "nbconvert_exporter": "python",
   "pygments_lexer": "ipython3",
   "version": "3.9.19"
  }
 },
 "nbformat": 4,
 "nbformat_minor": 5
}
